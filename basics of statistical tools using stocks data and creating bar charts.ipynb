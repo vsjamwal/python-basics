{
 "cells": [
  {
   "cell_type": "markdown",
   "metadata": {},
   "source": [
    "# Introduction to Python Programming\n",
    "## \n",
    "\n",
    "In this assignment, you will be expected to go through the process of loading a dataset into NumPy Arrays, performing some simple operations and then using the arrays to construct Pandas Series and Dataframes with meaningful labels. Finally, you will have to plot a few graphs using matplotlib."
   ]
  },
  {
   "cell_type": "code",
   "execution_count": 60,
   "metadata": {
    "scrolled": true
   },
   "outputs": [
    {
     "name": "stdout",
     "output_type": "stream",
     "text": [
      "[[120.3 121.7 119.8 122.5 123.3]]\n",
      "[[110.2 112.4 116.8 115.3 119.6]]\n",
      "[[124.1 124.3 124.2 124.8 124.3]]\n",
      "[[120.3 121.7 119.8 122.5 123.3]\n",
      " [124.1 124.3 124.2 124.8 124.3]\n",
      " [110.2 112.4 116.8 115.3 119.6]]\n"
     ]
    }
   ],
   "source": [
    "# Let's start by putting the following (completely fictional) share price lists into NumPy arrays\n",
    "\n",
    "microsoft = [120.3, 121.7, 119.8, 122.5, 123.3]\n",
    "apple = [124.1, 124.3, 124.2, 124.8, 124.3]\n",
    "facebook = [110.2, 112.4, 116.8, 115.3, 119.6]\n",
    "\n",
    "\n",
    "\n",
    "# TASK 1: Import NumPy and create arrays\n",
    "import numpy as np \n",
    " \n",
    "microsoft_array = np.array([microsoft])\n",
    "apple_array = np.array([apple])\n",
    "facebook_array = np.array([facebook])\n",
    "print(microsoft_array)\n",
    "print(facebook_array)\n",
    "print(apple_array)\n",
    "\n",
    "stock_prices = np.array([microsoft,apple,facebook])\n",
    "print(stock_prices)\n"
   ]
  },
  {
   "cell_type": "code",
   "execution_count": 64,
   "metadata": {
    "scrolled": true
   },
   "outputs": [
    {
     "name": "stdout",
     "output_type": "stream",
     "text": [
      "Mean values: microsoft = 121.52000000000001 ,apple= 124.33999999999999 ,facebook =  114.86000000000001\n",
      "Std  deviation values: microsoft = 1.3120975573485387 ,apple =  0.24166091947189133 ,facebook =  3.2921725349683566\n",
      "% change values: Microsoft: [[ 1.16375727 -1.56121611  2.25375626  0.65306122]] , Apple: [[ 0.16116035 -0.08045052  0.48309179 -0.40064103]] , Facebook: [[ 1.99637024  3.91459075 -1.28424658  3.72940156]]\n"
     ]
    }
   ],
   "source": [
    "# Now let's use some NumPy functions to learn some interesting statistical information\n",
    "\n",
    "\n",
    "# TASK 2A: Calculate the mean share price for each company, and store in suitably named variables.\n",
    "#          Then print them out (in order - Microsoft, then Apple, then Facebook).\n",
    "print(\"Mean values:\",\"microsoft =\", np.mean(microsoft), \",apple=\" ,np.mean(apple), \",facebook = \", np.mean(facebook))\n",
    "\n",
    "# TASK 2B: Calculate the standard deviation of share prices for each company using a NumPy function,\n",
    "#          and store in suitably named variables. Then print them out (in order - Microsoft, then Apple, then Facebook).\n",
    "print(\"Std  deviation values:\",\"microsoft =\",np.std(microsoft),\",apple = \", np.std(apple), \",facebook = \",np.std(facebook))\n",
    "\n",
    "# TASK 2C: Calculate the percentage change in share price from the first price to the last price, and store \n",
    "#          in suitably named variables. Then print them out (in order - Microsoft, then Apple, then Facebook).\n",
    "print(\"% change values:\",\"Microsoft:\",np.diff(microsoft_array)/microsoft_array[0,:4]*100,\",\",\"Apple:\",np.diff(apple_array)/apple_array[0,:4]*100,\",\",\"Facebook:\",np.diff(facebook_array)/facebook_array[0,:4]*100)"
   ]
  },
  {
   "cell_type": "code",
   "execution_count": 81,
   "metadata": {
    "scrolled": true
   },
   "outputs": [
    {
     "data": {
      "text/html": [
       "<div>\n",
       "<style scoped>\n",
       "    .dataframe tbody tr th:only-of-type {\n",
       "        vertical-align: middle;\n",
       "    }\n",
       "\n",
       "    .dataframe tbody tr th {\n",
       "        vertical-align: top;\n",
       "    }\n",
       "\n",
       "    .dataframe thead th {\n",
       "        text-align: right;\n",
       "    }\n",
       "</style>\n",
       "<table border=\"1\" class=\"dataframe\">\n",
       "  <thead>\n",
       "    <tr style=\"text-align: right;\">\n",
       "      <th></th>\n",
       "      <th>january</th>\n",
       "      <th>february</th>\n",
       "      <th>march</th>\n",
       "      <th>aprail</th>\n",
       "      <th>may</th>\n",
       "    </tr>\n",
       "  </thead>\n",
       "  <tbody>\n",
       "    <tr>\n",
       "      <td>microsoft</td>\n",
       "      <td>120.3</td>\n",
       "      <td>121.7</td>\n",
       "      <td>119.8</td>\n",
       "      <td>122.5</td>\n",
       "      <td>123.3</td>\n",
       "    </tr>\n",
       "    <tr>\n",
       "      <td>apple</td>\n",
       "      <td>124.1</td>\n",
       "      <td>124.3</td>\n",
       "      <td>124.2</td>\n",
       "      <td>124.8</td>\n",
       "      <td>124.3</td>\n",
       "    </tr>\n",
       "    <tr>\n",
       "      <td>facebook</td>\n",
       "      <td>110.2</td>\n",
       "      <td>112.4</td>\n",
       "      <td>116.8</td>\n",
       "      <td>115.3</td>\n",
       "      <td>119.6</td>\n",
       "    </tr>\n",
       "  </tbody>\n",
       "</table>\n",
       "</div>"
      ],
      "text/plain": [
       "           january  february  march  aprail    may\n",
       "microsoft    120.3     121.7  119.8   122.5  123.3\n",
       "apple        124.1     124.3  124.2   124.8  124.3\n",
       "facebook     110.2     112.4  116.8   115.3  119.6"
      ]
     },
     "execution_count": 81,
     "metadata": {},
     "output_type": "execute_result"
    }
   ],
   "source": [
    "\n",
    "# Now we're going to load our NumPy arrays into a Pandas Dataframe\n",
    "# The 5 values in each company's array is the share price for the first 5 months of 2018\n",
    "\n",
    "# TASK 3: Import Pandas and load the arrays into a dataframe with appropriate row and column labels, and then\n",
    "#         output the dataframe by simply typing its variable name on a new line\n",
    "\n",
    "\n",
    "import pandas as pd \n",
    "name = [\"microsoft\", \"apple\", \"facebook\"]\n",
    "date = [\"january\",\"february\",\"march\", \"aprail\",\"may\"]\n",
    "\n",
    "\n",
    "TABLE = pd.DataFrame(share_prices,index= name, columns = date)\n",
    "TABLE"
   ]
  },
  {
   "cell_type": "code",
   "execution_count": 98,
   "metadata": {},
   "outputs": [
    {
     "data": {
      "image/png": "[encoded data removed]",
      "text/plain": [
       "<Figure size 432x288 with 1 Axes>"
      ]
     },
     "metadata": {
      "needs_background": "light"
     },
     "output_type": "display_data"
    },
    {
     "data": {
      "image/png": "[encoded data removed]",
      "text/plain": [
       "<Figure size 432x288 with 1 Axes>"
      ]
     },
     "metadata": {
      "needs_background": "light"
     },
     "output_type": "display_data"
    }
   ],
   "source": [
    "# Finally, let's draw some interesting graphs! \n",
    "# You will need to use some of the statistical values you calculated earlier in order to do this\n",
    "\n",
    "# TO DO: Import Matplotlib's Pyplot submodule\n",
    "\n",
    "# TASK 4A: Draw a line graph for one of the companies, showing their share prices over time, using the dataframe.\n",
    "#          Provide suitable labels. Hint: using your_dataframe_variable.loc[\"your_row_label\", :] will extract a single row.\n",
    "\n",
    "# TASK 4B: Draw a bar chart, using any data structure, comparing each company's value for any statistic of your choice \n",
    "#          from Task 2 (A, B or C)\n",
    "import matplotlib.pyplot as plt\n",
    "plt.xlabel(\"Time\")\n",
    "plt.xlabel(\"share price\")\n",
    "TABLE.loc[\"microsoft\"].plot()\n",
    "plt.show()\n",
    "standard_deviation = [microsoft_array.std(),apple_array.std(),facebook_array.std()]\n",
    "standard_deviation\n",
    "share_names = [\"microsoft\",\"apple\",\"facebook\"]\n",
    "plt.bar(share_names, standard_deviation , alpha = 0.5)\n",
    "plt.show()"
   ]
  },
  {
   "cell_type": "code",
   "execution_count": null,
   "metadata": {},
   "outputs": [],
   "source": []
  }
 ],
 "metadata": {
  "kernelspec": {
   "display_name": "Python 3",
   "language": "python",
   "name": "python3"
  },
  "language_info": {
   "codemirror_mode": {
    "name": "ipython",
    "version": 3
   },
   "file_extension": ".py",
   "mimetype": "text/x-python",
   "name": "python",
   "nbconvert_exporter": "python",
   "pygments_lexer": "ipython3",
   "version": "3.7.4"
  }
 },
 "nbformat": 4,
 "nbformat_minor": 2
}
